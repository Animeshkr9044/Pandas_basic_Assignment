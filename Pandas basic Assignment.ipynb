{
 "cells": [
  {
   "cell_type": "code",
   "execution_count": null,
   "id": "89e068e0-f7cc-48b6-9157-c6691abe7639",
   "metadata": {},
   "outputs": [],
   "source": [
    "\"\"\"\"Q1. Create a Pandas Series that contains the following data: 4, 8, 15, 16, 23, and 42. Then, print the series.\"\"\"\""
   ]
  },
  {
   "cell_type": "code",
   "execution_count": 1,
   "id": "33009412-8b2e-4947-a3cc-bef3a16a03b7",
   "metadata": {},
   "outputs": [
    {
     "name": "stdout",
     "output_type": "stream",
     "text": [
      "0     4\n",
      "1     8\n",
      "2    15\n",
      "3    16\n",
      "4    23\n",
      "5    42\n",
      "dtype: int64\n"
     ]
    }
   ],
   "source": [
    "import pandas as pd\n",
    "data=[ 4, 8, 15, 16, 23, 42]\n",
    "Series=pd.Series(data)\n",
    "print(Series)"
   ]
  },
  {
   "cell_type": "code",
   "execution_count": 3,
   "id": "62d0178f-6166-40d3-8c60-9d56f604b319",
   "metadata": {},
   "outputs": [
    {
     "name": "stdout",
     "output_type": "stream",
     "text": [
      "0     1\n",
      "1     2\n",
      "2     3\n",
      "3     4\n",
      "4     5\n",
      "5     6\n",
      "6     7\n",
      "7     8\n",
      "8     9\n",
      "9    10\n",
      "dtype: int64\n"
     ]
    }
   ],
   "source": [
    "import pandas as pd\n",
    "data=(list(range(1,11)))\n",
    "series=pd.Series(data)\n",
    "print(series)"
   ]
  },
  {
   "cell_type": "code",
   "execution_count": null,
   "id": "d7df26eb-026d-40b8-a9d2-41e4a330a152",
   "metadata": {},
   "outputs": [],
   "source": [
    "\"\"\"Q3. Create a Pandas DataFrame that contains the following data:\"\"\""
   ]
  },
  {
   "cell_type": "code",
   "execution_count": 15,
   "id": "f222de27-70d8-4d97-9e2a-6b9a3d8c555f",
   "metadata": {},
   "outputs": [
    {
     "name": "stdout",
     "output_type": "stream",
     "text": [
      "Requirement already satisfied: pandas in /opt/conda/lib/python3.10/site-packages (1.5.2)\n",
      "Requirement already satisfied: python-dateutil>=2.8.1 in /opt/conda/lib/python3.10/site-packages (from pandas) (2.8.2)\n",
      "Requirement already satisfied: pytz>=2020.1 in /opt/conda/lib/python3.10/site-packages (from pandas) (2022.6)\n",
      "Requirement already satisfied: numpy>=1.21.0 in /opt/conda/lib/python3.10/site-packages (from pandas) (1.23.5)\n",
      "Requirement already satisfied: six>=1.5 in /opt/conda/lib/python3.10/site-packages (from python-dateutil>=2.8.1->pandas) (1.16.0)\n",
      "Note: you may need to restart the kernel to use updated packages.\n"
     ]
    }
   ],
   "source": [
    "pip install pandas "
   ]
  },
  {
   "cell_type": "code",
   "execution_count": 10,
   "id": "025e1334-ab05-44e6-981a-6ab34e5d7629",
   "metadata": {},
   "outputs": [
    {
     "name": "stdout",
     "output_type": "stream",
     "text": [
      "     Name  Age  Gender\n",
      "0   Alice   25  Female\n",
      "1     Bob   30    Male\n",
      "2  Claire   27  Female\n"
     ]
    }
   ],
   "source": [
    "import pandas as pd \n",
    "data={\"Name\": ['Alice', 'Bob', 'Claire'],\n",
    " \"Age\":[25,30,27],\n",
    "\"Gender\":['Female', 'Male', 'Female']}\n",
    "df=pd.DataFrame(data)\n",
    "\n",
    "print(df)"
   ]
  },
  {
   "cell_type": "code",
   "execution_count": 11,
   "id": "ef408ab3-ec09-4115-8f21-9ce932c1956f",
   "metadata": {},
   "outputs": [
    {
     "data": {
      "text/plain": [
       "'Q4. What is ‘DataFrame’ in pandas and how is it different from pandas.series? Explain with an example.'"
      ]
     },
     "execution_count": 11,
     "metadata": {},
     "output_type": "execute_result"
    }
   ],
   "source": [
    "\"\"\"Q4. What is ‘DataFrame’ in pandas and how is it different from pandas.series? Explain with an example.\"\"\""
   ]
  },
  {
   "cell_type": "code",
   "execution_count": 12,
   "id": "4b476c6f-2fae-4b26-8f79-eb1b7174dde1",
   "metadata": {},
   "outputs": [
    {
     "data": {
      "text/plain": [
       "\"\\nIn Pandas, a DataFrame is a two-dimensional tabular data structure that can store and manipulate data. It is similar to a table in a relational database or a spreadsheet with rows and columns. A DataFrame allows you to organize and work with data in a structured and flexible manner.\\n\\nA DataFrame consists of columns, where each column is a Pandas Series. A Series, on the other hand, is a one-dimensional labeled array capable of holding data of any type. It can be seen as a single column of data.\\n\\nHere's an example to illustrate the difference between a DataFrame and a Series:\""
      ]
     },
     "execution_count": 12,
     "metadata": {},
     "output_type": "execute_result"
    }
   ],
   "source": [
    "\"\"\"\n",
    "In Pandas, a DataFrame is a two-dimensional tabular data structure that can store and manipulate data. It is similar to a table in a relational database or a spreadsheet with rows and columns. A DataFrame allows you to organize and work with data in a structured and flexible manner.\n",
    "\n",
    "A DataFrame consists of columns, where each column is a Pandas Series. A Series, on the other hand, is a one-dimensional labeled array capable of holding data of any type. It can be seen as a single column of data.\n",
    "\n",
    "Here's an example to illustrate the difference between a DataFrame and a Series:\"\"\""
   ]
  },
  {
   "cell_type": "code",
   "execution_count": 13,
   "id": "1242a5c3-bad2-41a9-bc9f-dfa90bab43e1",
   "metadata": {},
   "outputs": [
    {
     "name": "stdout",
     "output_type": "stream",
     "text": [
      "Series:\n",
      "0     Apple\n",
      "1    Banana\n",
      "2    Orange\n",
      "3     Mango\n",
      "dtype: object\n",
      "\n",
      "DataFrame:\n",
      "    Fruit   Color  Price\n",
      "0   Apple     Red   1.00\n",
      "1  Banana  Yellow   0.50\n",
      "2  Orange  Orange   0.75\n",
      "3   Mango  Yellow   1.20\n"
     ]
    }
   ],
   "source": [
    "import pandas as pd\n",
    "\n",
    "# Creating a Series\n",
    "fruits = pd.Series(['Apple', 'Banana', 'Orange', 'Mango'])\n",
    "\n",
    "# Creating a DataFrame\n",
    "data = {\n",
    "    'Fruit': ['Apple', 'Banana', 'Orange', 'Mango'],\n",
    "    'Color': ['Red', 'Yellow', 'Orange', 'Yellow'],\n",
    "    'Price': [1.0, 0.5, 0.75, 1.2]\n",
    "}\n",
    "df = pd.DataFrame(data)\n",
    "\n",
    "print(\"Series:\")\n",
    "print(fruits)\n",
    "print(\"\\nDataFrame:\")\n",
    "print(df)\n"
   ]
  },
  {
   "cell_type": "code",
   "execution_count": null,
   "id": "1e5fce91-6d82-455e-a626-03d31ddb5220",
   "metadata": {},
   "outputs": [],
   "source": [
    "Q5. What are some common functions you can use to manipulate data in a Pandas DataFrame? Can\n",
    "you give an example of when you might use one of these functions?"
   ]
  },
  {
   "cell_type": "code",
   "execution_count": null,
   "id": "aa19bd78-9c4a-4719-ab7f-968a0a64015f",
   "metadata": {},
   "outputs": [],
   "source": [
    "\"\"\"some common functions:\n",
    "\n",
    "head() and tail(): These functions allow you to view the first or last few rows of a DataFrame. They are useful for quickly inspecting the data.\n",
    "\n",
    "info(): This function provides a summary of the DataFrame, including the number of rows and columns, data types of each column, and memory usage. It helps in understanding the structure of the DataFrame.\n",
    "\n",
    "describe(): This function generates descriptive statistics of the numerical columns in the DataFrame, such as count, mean, standard deviation, minimum, maximum, and quartiles. It provides insights into the distribution and summary statistics of the data.\n",
    "\n",
    "shape: This attribute returns a tuple representing the dimensions of the DataFrame (number of rows, number of columns). It allows you to check the size of the DataFrame.\n",
    "\n",
    "columns: This attribute returns the column labels of the DataFrame as a list. It can be used to get a list of all the column names in the DataFrame.\n",
    "\n",
    "loc and iloc: These indexing functions are used to access specific rows and columns in the DataFrame. loc is label-based indexing, whereas iloc is integer-based indexing.\n",
    "\n",
    "drop(): This function is used to remove rows or columns from the DataFrame. It allows you to drop specific rows or columns based on labels or indices.\n",
    "\n",
    "sort_values(): This function is used to sort the DataFrame by one or more columns. It allows you to specify the column(s) to sort by and the sorting order (ascending or descending).\n",
    "\n",
    "groupby(): This function is used for grouping data based on one or more columns. It allows you to perform aggregations, apply functions, and analyze data within each group.\n",
    "\n",
    "merge(): This function is used to combine two or more DataFrames based on a common column or index. It helps in merging data from different sources into a single DataFrame.\"\"\""
   ]
  },
  {
   "cell_type": "code",
   "execution_count": null,
   "id": "fa3d2d95-f997-4c4e-8206-020a07cf1eef",
   "metadata": {},
   "outputs": [],
   "source": [
    "Let's say you have a DataFrame sales_data that contains sales information for different products. You might want to use the groupby() function to analyze the total sales for each product category. Here's an example"
   ]
  },
  {
   "cell_type": "code",
   "execution_count": 15,
   "id": "7783b35d-53d2-48f4-8bf8-f30f312cf546",
   "metadata": {},
   "outputs": [
    {
     "ename": "NameError",
     "evalue": "name 'sales_data' is not defined",
     "output_type": "error",
     "traceback": [
      "\u001b[0;31m---------------------------------------------------------------------------\u001b[0m",
      "\u001b[0;31mNameError\u001b[0m                                 Traceback (most recent call last)",
      "Cell \u001b[0;32mIn[15], line 4\u001b[0m\n\u001b[1;32m      1\u001b[0m \u001b[38;5;28;01mimport\u001b[39;00m \u001b[38;5;21;01mpandas\u001b[39;00m \u001b[38;5;28;01mas\u001b[39;00m \u001b[38;5;21;01mpd\u001b[39;00m\n\u001b[1;32m      3\u001b[0m \u001b[38;5;66;03m# Assuming sales_data is the DataFrame containing sales information\u001b[39;00m\n\u001b[0;32m----> 4\u001b[0m sales_by_category \u001b[38;5;241m=\u001b[39m \u001b[43msales_data\u001b[49m\u001b[38;5;241m.\u001b[39mgroupby(\u001b[38;5;124m'\u001b[39m\u001b[38;5;124mCategory\u001b[39m\u001b[38;5;124m'\u001b[39m)[\u001b[38;5;124m'\u001b[39m\u001b[38;5;124mSales\u001b[39m\u001b[38;5;124m'\u001b[39m]\u001b[38;5;241m.\u001b[39msum()\n\u001b[1;32m      5\u001b[0m \u001b[38;5;28mprint\u001b[39m(sales_by_category)\n",
      "\u001b[0;31mNameError\u001b[0m: name 'sales_data' is not defined"
     ]
    }
   ],
   "source": [
    "import pandas as pd\n",
    "\n",
    "# Assuming sales_data is the DataFrame containing sales information\n",
    "sales_by_category = sales_data.groupby('Category')['Sales'].sum()\n",
    "print(sales_by_category)\n"
   ]
  },
  {
   "cell_type": "code",
   "execution_count": null,
   "id": "d0659fa0-711c-4338-887c-0f10f25d07c2",
   "metadata": {},
   "outputs": [],
   "source": [
    "Q6. Which of the following is mutable in nature Series, DataFrame, Panel?"
   ]
  },
  {
   "cell_type": "code",
   "execution_count": null,
   "id": "728f0b46-3e63-4d2e-bb53-b991fad38bc0",
   "metadata": {},
   "outputs": [],
   "source": [
    "Among the options provided, both Series and DataFrame in Pandas are mutable in nature, meaning they can be modified after creation. On the other hand, Panel is an older Pandas data structure that has been deprecated since version 0.20.0. Therefore, it is no longer recommended to use Panel.\n",
    "\n",
    "To summarize:\n",
    "\n",
    "Series: Mutable. You can modify elements, add or remove elements, and change values within a Series.\n",
    "\n",
    "DataFrame: Mutable. You can modify columns, add or remove columns, change values within the DataFrame, and perform various data manipulations.\n",
    "\n",
    "Panel: Deprecated. It is no longer recommended to use Panel, as it has been replaced by other data structures like DataFrame in newer versions of Pandas.\n",
    "\n",
    "For most use cases, working with mutable Series and DataFrame objects should be sufficient to handle data manipulation and analysis tasks in Pandas."
   ]
  },
  {
   "cell_type": "code",
   "execution_count": null,
   "id": "73350534-5642-49c0-82c3-288bc3772cd6",
   "metadata": {},
   "outputs": [],
   "source": [
    "Q7. Create a DataFrame using multiple Series. Explain with an example."
   ]
  },
  {
   "cell_type": "code",
   "execution_count": null,
   "id": "6937a615-7048-4197-9295-587228549cbd",
   "metadata": {},
   "outputs": [],
   "source": [
    "o create a DataFrame using multiple Series, you can pass the Series objects as a dictionary to the pd.DataFrame() function. Each Series will represent a column in the DataFrame. Here's an example:"
   ]
  },
  {
   "cell_type": "code",
   "execution_count": null,
   "id": "47e322b2-afbd-4f91-8bf8-cf7f112cdc35",
   "metadata": {},
   "outputs": [],
   "source": [
    "import pandas as pd\n",
    "\n",
    "# Creating Series for Name, Age, and Gender\n",
    "name_series = pd.Series(['Alice', 'Bob', 'Claire'])\n",
    "age_series = pd.Series([25, 30, 27])\n",
    "gender_series = pd.Series(['Female', 'Male', 'Female'])\n",
    "\n",
    "# Creating DataFrame using the Series\n",
    "data = {\n",
    "    'Name': name_series,\n",
    "    'Age': age_series,\n",
    "    'Gender': gender_series\n",
    "}\n",
    "\n",
    "df = pd.DataFrame(data)\n",
    "\n",
    "print(df)\n"
   ]
  },
  {
   "cell_type": "code",
   "execution_count": null,
   "id": "a23f46a9-7b1a-4d2e-b918-d74ac075d708",
   "metadata": {},
   "outputs": [],
   "source": [
    "In this example, we create three separate Series objects: name_series, age_series, and gender_series. Each Series represents a column of data for the DataFrame.\n",
    "\n",
    "We then create a dictionary data where the keys represent the column names ('Name', 'Age', 'Gender') and the values are the corresponding Series objects.\n",
    "\n",
    "Finally, we pass the dictionary data to pd.DataFrame() to create the DataFrame df. The resulting DataFrame has three columns ('Name', 'Age', 'Gender') with the data from the respective Series.\n",
    "\n",
    "This way, you can combine multiple Series into a DataFrame, making it easy to organize and analyze your data."
   ]
  }
 ],
 "metadata": {
  "kernelspec": {
   "display_name": "Python 3 (ipykernel)",
   "language": "python",
   "name": "python3"
  },
  "language_info": {
   "codemirror_mode": {
    "name": "ipython",
    "version": 3
   },
   "file_extension": ".py",
   "mimetype": "text/x-python",
   "name": "python",
   "nbconvert_exporter": "python",
   "pygments_lexer": "ipython3",
   "version": "3.10.8"
  }
 },
 "nbformat": 4,
 "nbformat_minor": 5
}
